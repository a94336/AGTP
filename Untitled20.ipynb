{
 "cells": [
  {
   "cell_type": "code",
   "execution_count": null,
   "id": "0314eb4c",
   "metadata": {},
   "outputs": [],
   "source": [
    "def calcListaInst(esc):\n",
    "    instrumento=[]\n",
    "    for elem in esc:\n",
    "        for i in elem['instrumentos']:\n",
    "            if i not in instrumento:\n",
    "                instrumento.append(i)\n",
    "    instrumento.sort()\n",
    "    return instrumento\n",
    "\n",
    "def calcListaMusicos(esc,i):\n",
    "    musicos=[]\n",
    "    for a in esc:\n",
    "        if i in a['instrumentos']:\n",
    "            musicos.append(a['nome'])\n",
    "    return musicos\n",
    "\n",
    "def indInstrumento(esc):\n",
    "    indiceInstrumentos=[]\n",
    "    listaInt = calcListaInst(esc)\n",
    "    for i in listaInt:\n",
    "        indiceInstrumentos.append({\n",
    "            'instrumentos':i,\n",
    "            'músicos':calcListaMusicos(esc,i)})\n",
    "    return indiceInstrumentos"
   ]
  }
 ],
 "metadata": {
  "kernelspec": {
   "display_name": "Python 3",
   "language": "python",
   "name": "python3"
  },
  "language_info": {
   "codemirror_mode": {
    "name": "ipython",
    "version": 3
   },
   "file_extension": ".py",
   "mimetype": "text/x-python",
   "name": "python",
   "nbconvert_exporter": "python",
   "pygments_lexer": "ipython3",
   "version": "3.8.8"
  }
 },
 "nbformat": 4,
 "nbformat_minor": 5
}
