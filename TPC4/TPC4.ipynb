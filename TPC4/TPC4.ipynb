{
 "cells": [
  {
   "cell_type": "markdown",
   "id": "bf58296f",
   "metadata": {},
   "source": [
    "# Aula TP4"
   ]
  },
  {
   "cell_type": "markdown",
   "id": "8d3ec3b2",
   "metadata": {},
   "source": [
    "* Identificador: TPC4\n",
    "* Título: Frações\n",
    "* Data inicío: 2021-10-27\n",
    "* Data fim: 2021-10-28\n",
    "* Supervisor: José Carlos Leite Ramalho, https://www4.di.uminho.pt/~jcr/\n",
    "* Autor: Bernardo Moraes, A94336"
   ]
  },
  {
   "cell_type": "markdown",
   "id": "04acfbd5",
   "metadata": {},
   "source": [
    "### Resumo\n",
    "\n",
    "Durante a quarta aula teórico-prática, foi proposta aos alunos, a criação de uma aplicação que permita ao utilizador iterar frações ou uma lista de frações. Foi determinado que a aplicação deveria ser composta por um menu que direcione o utilizador para as nove funcionalidades.\n",
    "\n",
    "Na aula, junto o supervisor, foram elaboradas a funções **criarFracao** (permite a criação de frações), **verFracao** (imprime a fração de forma mais agradável), **somaFrac** (realiza a soma entre duas funções) e **sumList** (soma n frações de uma lista gerada aleatoriamente). Para realizar a simplificação de frações, é necesárrio saber o máximo divisor comum entre os denominadores, portanto, para auxiliar a função **simplificarFracao**, foi criada a função **mdc** (ambas também elaboradas com a ajuda do supervisor em aula).\n",
    "\n",
    "As funções **subFrac**, **multFrac** e **divFrac** foram criadas em casa, porém com estrutura e estratégia similiares àquelas elaboradas em aula. Conforme foi exigido, o utilizador deve ter a opção de gerar uma lista aleatória com n frações, então, a função **listFrac**, através do mecanismo *from random import randint* permite a criação de frações com numeradores e denominadores aleatórios compreendidos entre 1 e 100. Na função **maiorFrac** criou-se uma nova lista, *decimais*, composta pelos resultados das divisões entre os numeradores e denominadores das n frações. Através do índice do elemento com maior valor da lista *decimais* é possível determinar qual é a maior fração da lista gerada na função *listFrac*."
   ]
  },
  {
   "cell_type": "code",
   "execution_count": 1,
   "id": "96a99371",
   "metadata": {},
   "outputs": [],
   "source": [
    "def menu():\n",
    "    print(\"\"\"Aplicação para trabalhar com frações:\n",
    "(1) Criar fração manualmente;\n",
    "(2) Simplificar fração;\n",
    "(3) Somar frações;\n",
    "(4) Subtrair frações;\n",
    "(5) Multiplicar frações;\n",
    "(6) Dividir frações;\n",
    "(7) Gerar lista com n frações;\n",
    "(8) Somar as n frações da lista;\n",
    "(9) Maior fração da lista;\n",
    "(0) Sair\"\"\")"
   ]
  },
  {
   "cell_type": "code",
   "execution_count": 2,
   "id": "87c87212",
   "metadata": {},
   "outputs": [],
   "source": [
    "def criarFracao():\n",
    "    numerador=int(input('Introduza o numerador da fração: '))\n",
    "    denominador=int(input('Introduza o denominador da fração: '))\n",
    "    return (numerador,denominador)"
   ]
  },
  {
   "cell_type": "code",
   "execution_count": 3,
   "id": "8f473f39",
   "metadata": {},
   "outputs": [],
   "source": [
    "def verFracao(f):\n",
    "    print(str(f[0])+\"/\"+str(f[1]))"
   ]
  },
  {
   "cell_type": "code",
   "execution_count": 4,
   "id": "0cc26850",
   "metadata": {},
   "outputs": [],
   "source": [
    "def mdc(a,b):\n",
    "    if a<b:\n",
    "        return mdc(b,a)\n",
    "    elif b == 0:\n",
    "        return a\n",
    "    else:\n",
    "        resto = a % b\n",
    "        a = b\n",
    "        b = resto\n",
    "        return mdc(a, b)  "
   ]
  },
  {
   "cell_type": "code",
   "execution_count": 5,
   "id": "cf1050b9",
   "metadata": {},
   "outputs": [],
   "source": [
    "def simplificarFracao(f):\n",
    "    num, denom = f\n",
    "    a=mdc(num,denom)\n",
    "    return(int(num/a),int(denom/a))"
   ]
  },
  {
   "cell_type": "code",
   "execution_count": 6,
   "id": "42f7b0bd",
   "metadata": {},
   "outputs": [],
   "source": [
    "def somaFrac(f1,f2):\n",
    "    num1,denom1=f1\n",
    "    num2,denom2=f2\n",
    "    if denom1==denom2:\n",
    "        num3=num1+num2\n",
    "        return simplificarFracao((num3,denom1))\n",
    "    else:\n",
    "        denom3=denom1*denom2\n",
    "        num3=(num1*denom2)+(num2*denom1)\n",
    "        return simplificarFracao((num3,denom3))"
   ]
  },
  {
   "cell_type": "code",
   "execution_count": 7,
   "id": "4b0bdcc5",
   "metadata": {},
   "outputs": [],
   "source": [
    "def subFrac(f1,f2):\n",
    "    num1,denom1=f1\n",
    "    num2,denom2=f2\n",
    "    if denom1==denom2:\n",
    "        num3=num1-num2\n",
    "        return simplificarFracao((num3,denom1))\n",
    "    else:\n",
    "        denom3=denom1*denom2\n",
    "        num3=(num1*denom2)-(num2*denom1)\n",
    "        return simplificarFracao((num3,denom3))"
   ]
  },
  {
   "cell_type": "code",
   "execution_count": 8,
   "id": "16e9a558",
   "metadata": {},
   "outputs": [],
   "source": [
    "def multFrac(f1,f2):\n",
    "    num1,denom1=f1\n",
    "    num2,denom2=f2\n",
    "    return simplificarFracao((num1*num2,denom1*denom2))"
   ]
  },
  {
   "cell_type": "code",
   "execution_count": 9,
   "id": "12cce086",
   "metadata": {},
   "outputs": [],
   "source": [
    "def divFrac(f1,f2):\n",
    "    num1,denom1=f1\n",
    "    num2,denom2=f2\n",
    "    return simplificarFracao((num1*denom2,denom1*num2))"
   ]
  },
  {
   "cell_type": "code",
   "execution_count": 10,
   "id": "f5d12904",
   "metadata": {},
   "outputs": [],
   "source": [
    "def listFrac():\n",
    "    from random import randint\n",
    "    lista=[]\n",
    "    n=int(input('Introduza o número de frações que queres na lista: '))\n",
    "    for i in range (n):\n",
    "        num=randint(1,100)\n",
    "        den=randint(1,100)\n",
    "        lista.append((num,den))\n",
    "    return lista"
   ]
  },
  {
   "cell_type": "code",
   "execution_count": 11,
   "id": "58fbfa0c",
   "metadata": {},
   "outputs": [],
   "source": [
    "def sumList(lista):\n",
    "    res=(0,1)\n",
    "    for elem in lista:\n",
    "        res=somaFrac(res,elem)\n",
    "    return simplificarFracao(res)"
   ]
  },
  {
   "cell_type": "code",
   "execution_count": 12,
   "id": "471ac8a5",
   "metadata": {},
   "outputs": [],
   "source": [
    "def maiorFrac(lista):\n",
    "    decimais=[]\n",
    "    i=0\n",
    "    for elem in lista:\n",
    "        num,denom=elem\n",
    "        a=num/denom\n",
    "        decimais.append(a)\n",
    "        maximo=max(decimais)\n",
    "        indice=decimais.index(maximo)\n",
    "    return lista[indice]"
   ]
  },
  {
   "cell_type": "code",
   "execution_count": 13,
   "id": "0dad930e",
   "metadata": {},
   "outputs": [
    {
     "name": "stdout",
     "output_type": "stream",
     "text": [
      "Aplicação para trabalhar com frações:\n",
      "(1) Criar fração manualmente;\n",
      "(2) Simplificar fração;\n",
      "(3) Somar frações;\n",
      "(4) Subtrair frações;\n",
      "(5) Multiplicar frações;\n",
      "(6) Dividir frações;\n",
      "(7) Gerar lista com n frações;\n",
      "(8) Somar as n frações da lista;\n",
      "(9) Maior fração da lista;\n",
      "(0) Sair\n",
      "Qual é a sua opção? 7\n",
      "Introduza o número de frações que queres na lista: 6\n",
      "[(80, 12), (44, 63), (64, 83), (72, 30), (54, 93), (61, 64)]\n",
      "Qual é a sua opção? 9\n",
      "80/12\n",
      "Qual é a sua opção? 0\n",
      "Até a próxima!\n"
     ]
    }
   ],
   "source": [
    "op=\"1\"\n",
    "menu()\n",
    "f1=(0,0)\n",
    "f2=(0,0)\n",
    "while op != '0':\n",
    "    op=input('Qual é a sua opção? ')\n",
    "    if op==\"1\":\n",
    "        f1=criarFracao()\n",
    "        verFracao(f1)\n",
    "    elif op==\"2\":\n",
    "        if f1==(0,0) or f2==(0,0):\n",
    "            print('Primeiro, precisar criar uma função')\n",
    "            f1=criarFracao()\n",
    "        verFracao(simplificarFracao(f1))\n",
    "    elif op==\"3\":\n",
    "        if f2==(0,0):\n",
    "            print('Para somar, precisas criar outra fração')\n",
    "            f2=criarFracao()\n",
    "        verFracao(somaFrac(f1,f2))\n",
    "    elif op==\"4\":\n",
    "        if f2==(0,0):\n",
    "            print('Para subtrair, precisas criar outra fração')\n",
    "            f2=criarFracao()\n",
    "        verFracao(subFrac(f1,f2))\n",
    "    elif op==\"5\": \n",
    "        if f2==(0,0):\n",
    "            print('Para multiplicar, precisas criar outra fração')\n",
    "            f2=criarFracao()\n",
    "        verFracao(multFrac(f1,f2))\n",
    "    elif op==\"6\":\n",
    "        if f2==(0,0):\n",
    "            print('Para dividir, precisas criar outra fração')\n",
    "            f2=criarFracao()\n",
    "        verFracao(divFrac(f1,f2))\n",
    "    elif op==\"7\":\n",
    "        list=listFrac()\n",
    "        print(list)\n",
    "    elif op==\"8\":\n",
    "        if list==[]:\n",
    "            print('Primeiro precisas criar uma lista de frações')\n",
    "            list=listFrac\n",
    "        verFracao(sumList(list))\n",
    "    elif op==\"9\":\n",
    "        if list==[]:\n",
    "            print('Primeiro precisas criar uma lista de frações')\n",
    "            list=listFrac\n",
    "        verFracao(maiorFrac(list))\n",
    "    elif op==\"0\":\n",
    "        print('Até a próxima!')\n",
    "    else:\n",
    "        print('Opção inválida')"
   ]
  },
  {
   "cell_type": "code",
   "execution_count": null,
   "id": "a418a3b8",
   "metadata": {},
   "outputs": [],
   "source": []
  },
  {
   "cell_type": "code",
   "execution_count": null,
   "id": "29f891b3",
   "metadata": {},
   "outputs": [],
   "source": []
  }
 ],
 "metadata": {
  "kernelspec": {
   "display_name": "Python 3",
   "language": "python",
   "name": "python3"
  },
  "language_info": {
   "codemirror_mode": {
    "name": "ipython",
    "version": 3
   },
   "file_extension": ".py",
   "mimetype": "text/x-python",
   "name": "python",
   "nbconvert_exporter": "python",
   "pygments_lexer": "ipython3",
   "version": "3.8.8"
  }
 },
 "nbformat": 4,
 "nbformat_minor": 5
}
