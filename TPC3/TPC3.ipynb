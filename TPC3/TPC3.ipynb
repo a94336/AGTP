{
 "cells": [
  {
   "cell_type": "markdown",
   "id": "0730c4ce",
   "metadata": {},
   "source": [
    "# Aula TP3"
   ]
  },
  {
   "cell_type": "markdown",
   "id": "bc5157f8",
   "metadata": {},
   "source": [
    "* Identificador: TPC3\n",
    "* Título: Bubble Sort ou Trocas Diretas\n",
    "* Data inicío: 2021-10-23\n",
    "* Data fim: 2021-10-23\n",
    "* Supervisor: José Carlos Leite Ramalho, https://www4.di.uminho.pt/~jcr/\n",
    "* Autor: Bernardo Moraes, A94336"
   ]
  },
  {
   "cell_type": "markdown",
   "id": "002b7290",
   "metadata": {},
   "source": [
    "### Resumo\n",
    "\n",
    "Durante a terceira aula teórico-prática, foi proposta aos alunos, a criação de uma aplicação que permita ao utilizador criar (de forma manual ou aleatória) e analisar listas. Foi determinado que a aplicação deveria ser composta por um menu que direcione o utilizador para as diferentes funcionalidades.\n",
    "\n",
    "Na aula, as funções **menu** (imprimi as diferentes opções possíveis), \"criarListaM\" (permite o utilizador criar uma lista manualmente), **criarListaA** (criação de uma lista com elementos aleatórios de 0 a 100) **maiorElemento** (indica o maior elemento da lista criada anteriormente) foram elaboradas juntamente com a ajuda do supervisor. Portanto, a função **bubbleSort** ficou para ser estudada e concluída em casa.\n",
    "\n",
    "A função **bubbleSort** ordena a lista. A estratégia utilizada foi realizar quantas trocas fossem necessárias entre os números para que eles, no fim, estivessem todos em ordem crescente. Ou seja, quando o interpretador percorresse todos os elementos da lista e não realizasse trocas, significaria, então, que a lista estava já ordenada. Portanto, no código, a mudança do valor da variável *trocas* para *valores inferiores a 1* é responsável por sinalizar ou não a necessidade de fazer novas trocas entre os elementos e, através de funcionalidades recursivas (*return bubbleSort(list)*), retomar a função até que obtenha o resultado pretendido."
   ]
  },
  {
   "cell_type": "code",
   "execution_count": 1,
   "id": "cce58ef5",
   "metadata": {},
   "outputs": [],
   "source": [
    "def menu():\n",
    "    print(\"\"\"Gestão de lista de inteiros\n",
    "(1) Introduza a lista à mão\";\n",
    "(2) Gerar lista com valores aleatórios;\n",
    "(3) Maior elemento da lista;\n",
    "(4) Ordenar a lista\n",
    "(0) Sair\"\"\")"
   ]
  },
  {
   "cell_type": "code",
   "execution_count": 2,
   "id": "f8a16b07",
   "metadata": {},
   "outputs": [],
   "source": [
    "def criarListaM():\n",
    "    n=int(input('Introduza o nº de elementos da lista: '))\n",
    "    lista=[]\n",
    "    for i in range(n):\n",
    "        numero=int(input('Introduza o elemento ' + str(i+1) + ': '))\n",
    "        lista.append(numero)\n",
    "    return lista"
   ]
  },
  {
   "cell_type": "code",
   "execution_count": 3,
   "id": "9084c077",
   "metadata": {},
   "outputs": [],
   "source": [
    "def criarListaA():\n",
    "    from random import randint\n",
    "    n=int(input('Introduza o nº de elementos da lista: '))\n",
    "    lista=[]\n",
    "    for i in range(n):\n",
    "        numero=randint(0,100)     \n",
    "        lista.append(numero)\n",
    "    return lista"
   ]
  },
  {
   "cell_type": "code",
   "execution_count": 4,
   "id": "30a56cf9",
   "metadata": {},
   "outputs": [],
   "source": [
    "def maiorElemento(list):\n",
    "    i=0\n",
    "    maior=list[0]\n",
    "    while i<(len(list)-1):\n",
    "        if list[i]<list[i+1] and list[i+1]>maior:\n",
    "            maior=list[i+1]\n",
    "            i=i+1\n",
    "        else:\n",
    "            i=i+1\n",
    "    return maior"
   ]
  },
  {
   "cell_type": "code",
   "execution_count": 5,
   "id": "01be7aa7",
   "metadata": {},
   "outputs": [],
   "source": [
    "def bubbleSort(list):\n",
    "    i=1\n",
    "    trocas=1\n",
    "    while i < len(list) and trocas<=1:\n",
    "        if list[i-1]>list[i]:\n",
    "            x=list[i-1]\n",
    "            y=list[i]\n",
    "            list[i-1]=y\n",
    "            list[i]=x\n",
    "            trocas=trocas-1\n",
    "        else:\n",
    "            i=i+1\n",
    "    if trocas<1:\n",
    "        return bubbleSort(list)\n",
    "    return(list)"
   ]
  },
  {
   "cell_type": "code",
   "execution_count": null,
   "id": "325ac589",
   "metadata": {},
   "outputs": [],
   "source": [
    "op=\"1\"\n",
    "menu()\n",
    "while op != '0':\n",
    "    op=input('Qual é a sua opção? ')\n",
    "    if op==\"1\":\n",
    "        list=criarListaM()\n",
    "        print(list)\n",
    "    elif op==\"2\":\n",
    "        list=criarListaA()\n",
    "        print(list)\n",
    "    elif op==\"3\":\n",
    "        m=maiorElemento(list)\n",
    "        print(m)\n",
    "    elif op==\"4\":\n",
    "        list=bubbleSort(list)\n",
    "        print(list)\n",
    "    elif op==\"0\":\n",
    "        print('Até a próxima!')\n",
    "    else:\n",
    "        print('Opção inválida')"
   ]
  }
 ],
 "metadata": {
  "kernelspec": {
   "display_name": "Python 3",
   "language": "python",
   "name": "python3"
  },
  "language_info": {
   "codemirror_mode": {
    "name": "ipython",
    "version": 3
   },
   "file_extension": ".py",
   "mimetype": "text/x-python",
   "name": "python",
   "nbconvert_exporter": "python",
   "pygments_lexer": "ipython3",
   "version": "3.8.8"
  }
 },
 "nbformat": 4,
 "nbformat_minor": 5
}
