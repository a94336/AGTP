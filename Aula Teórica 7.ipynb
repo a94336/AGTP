{
 "cells": [
  {
   "cell_type": "markdown",
   "id": "0f954818",
   "metadata": {},
   "source": [
    "Window"
   ]
  },
  {
   "cell_type": "code",
   "execution_count": 1,
   "id": "f92c43d5",
   "metadata": {},
   "outputs": [],
   "source": [
    "#hello_world.py\n",
    "\n",
    "import PySimpleGUI as sg\n",
    "\n",
    "linhasInterface = [\n",
    "    [sg.Text('Vamos analisar alguns componentes')],\n",
    "    [sg.Button('Ok')]\n",
    "]\n",
    "\n",
    "window = sg.Window(title='Janela para testes', font='Helvetica 24', default_element_size=(20,1)).Layout(linhasInterface) #font - pode ser um tuplo ou uma string (espaço a separar o nome da fonte e o tamanho)\n",
    "stop = False \n",
    "while not stop:\n",
    "    event, values = window.read() #window.read - devolve um dicionário (event: o que aconteceu; values=devolve valores quando for necessário)\n",
    "    # End program if user closes window or\n",
    "    # presses the OK button\n",
    "    if event == \"Ok\" or event == sg.WIN_CLOSED: #WIN_CLOSED - fecha janelas\n",
    "        stop = True\n",
    "window.close()"
   ]
  },
  {
   "cell_type": "markdown",
   "id": "5203d2f9",
   "metadata": {},
   "source": [
    "### ListBox: vamos fazer um inspector aos eventos..."
   ]
  },
  {
   "cell_type": "code",
   "execution_count": 2,
   "id": "71cc16cb",
   "metadata": {},
   "outputs": [],
   "source": [
    "import PySimpleGUI as sg\n",
    "\n",
    "tarefas = ['Lavar o carro', 'Comprar pão', 'Tratar do lixo', 'Passear o Boby']\n",
    "\n",
    "interfacePrincipal=[[sg.InputText('Introduza uma tarefa',font=('Arial',24), key='_tarefa_')],\n",
    "       [sg.Button('Inserir'), sg.Button('Alterar'), sg.Button('Remover')],\n",
    "       [sg.Listbox(values=tarefas, size=(40,10), key='_tarefas_')]] #manipular dados na interface - necessário criar um identificador por um key\n",
    "\n",
    "window=sg.Window(title='Gestão de tarefas', font='Helvetica 24', default_element_size=(20,1)).Layout(interfacePrincipal)\n",
    "\n",
    "stop=False\n",
    "while not stop:\n",
    "    event, values = window.read()\n",
    "    if event == sg.WIN_CLOSED:\n",
    "        stop=True\n",
    "    else:\n",
    "        print(event + ':\\n')\n",
    "        print(values)\n",
    "        #print(event+ ':\\n' + '\\n'.join('{}\\t{}'.format(k,v) for k,v in values.items())) #join - imprime o elemento em cada linha\n",
    "window.close()"
   ]
  },
  {
   "cell_type": "markdown",
   "id": "590264b8",
   "metadata": {},
   "source": [
    "### App: Gestão de Tarefas"
   ]
  },
  {
   "cell_type": "code",
   "execution_count": 4,
   "id": "2690e843",
   "metadata": {},
   "outputs": [],
   "source": [
    "def janelaErro(mensagem):\n",
    "    interface = [\n",
    "        [sg.Text(mensagem)],\n",
    "        [sg.Button('Ok')]\n",
    "    ]\n",
    "    \n",
    "    window = sg.Window(title='ERRO', font='Helvetica 24', default_element_size=(20,1)).Layout(interface)\n",
    "    \n",
    "    stop=False\n",
    "    while not stop:\n",
    "        event, values = window.read()\n",
    "        if event == 'Ok' or event == sg.WIN_CLOSED:\n",
    "            stop=True\n",
    "    window.close()"
   ]
  },
  {
   "cell_type": "code",
   "execution_count": 5,
   "id": "c817a04c",
   "metadata": {},
   "outputs": [],
   "source": [
    "import PySimpleGUI as sg\n",
    "\n",
    "tarefas = ['Lavar o carro', 'Comprar pão', 'Tratar do lixo', 'Passear o Boby']\n",
    "\n",
    "interfacePrincipal=[[sg.InputText('Introduza uma tarefa',font=('Arial',24), key='_tarefa_')],\n",
    "       [sg.Button('Inserir'), sg.Button('Alterar'), sg.Button('Remover')],\n",
    "       [sg.Listbox(values=tarefas, size=(40,10), key='_tarefas_')]] #manipular dados na interface - necessário criar um identificador por um key\n",
    "\n",
    "window=sg.Window(title='Gestão de tarefas', font='Helvetica 24', default_element_size=(20,1)).Layout(interfacePrincipal)\n",
    "\n",
    "stop=False\n",
    "while not stop:\n",
    "    event, values = window.read()\n",
    "    if event == sg.WIN_CLOSED:\n",
    "        stop=True\n",
    "    elif event == 'Inserir':\n",
    "        tarefas.append(values['_tarefa_'])\n",
    "        window.find_element('_tarefas_').update(values=tarefas)\n",
    "    elif event == 'Remover':\n",
    "        if len(values['_tarefas_']) > 0:\n",
    "            tarefas.remove(values['_tarefas_'][0])\n",
    "            window.find_element('_tarefas_').update(values=tarefas)\n",
    "        else:\n",
    "            janelaErro('Erro: queria selecionar o elemento antes de remover...')\n",
    "    elif event == 'Alterar':\n",
    "        if len(values['_tarefas_']) > 0:\n",
    "            tarefas.remove(values['_tarefas_'][0])\n",
    "            tarefas.append(values['_tarefa_'])\n",
    "            window.find_element('_tarefas_').update(values=tarefas)\n",
    "        else:\n",
    "            janelaErro('Erro: queria selecionar o elemento antes de alterar...')\n",
    "    else:\n",
    "        print(event + ':\\n')\n",
    "        print(values)\n",
    "        #print(event+ ':\\n' + '\\n'.join('{}\\t{}'.format(k,v) for k,v in values.items())) #join - imprime o elemento em cada linha\n",
    "window.close()"
   ]
  },
  {
   "cell_type": "code",
   "execution_count": null,
   "id": "643b2fd5",
   "metadata": {},
   "outputs": [],
   "source": []
  },
  {
   "cell_type": "code",
   "execution_count": null,
   "id": "506402b5",
   "metadata": {},
   "outputs": [],
   "source": []
  }
 ],
 "metadata": {
  "kernelspec": {
   "display_name": "Python 3",
   "language": "python",
   "name": "python3"
  },
  "language_info": {
   "codemirror_mode": {
    "name": "ipython",
    "version": 3
   },
   "file_extension": ".py",
   "mimetype": "text/x-python",
   "name": "python",
   "nbconvert_exporter": "python",
   "pygments_lexer": "ipython3",
   "version": "3.8.8"
  }
 },
 "nbformat": 4,
 "nbformat_minor": 5
}
