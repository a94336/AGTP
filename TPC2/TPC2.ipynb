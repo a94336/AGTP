{
 "cells": [
  {
   "cell_type": "markdown",
   "id": "cc280be2",
   "metadata": {},
   "source": [
    "# Aula TP2"
   ]
  },
  {
   "cell_type": "markdown",
   "id": "5e1231da",
   "metadata": {},
   "source": [
    "* Identificador: TPC2\n",
    "* Título: \"Adivinhe o número que pensei\"\n",
    "* Data inicío: 2021-10-16\n",
    "* Data fim: 2021-10-16\n",
    "* Supervisor: José Carlos Leite Ramalho, https://www4.di.uminho.pt/~jcr/\n",
    "* Autor: Bernardo Moraes, A94336"
   ]
  },
  {
   "cell_type": "markdown",
   "id": "ea6743ee",
   "metadata": {},
   "source": [
    "### Resumo\n",
    "\n",
    "Durante a segunda aula teórico-prática, foi proposta aos alunos, a criação de um jogo em que o humano escolhe um número aleatório de 0 a 100 e o computador, através de perguntas sucessivas, tenta adivinhar o número.\n",
    "\n",
    "Ao estudar a melhor estratégia para que a tarefa fosse realizada, notei que, para adivinhar o número com o menor número de tentativas, o ideal é sempre diminuir as possibilidades pela metade. Portanto, a estratégia está diretamente relacionada com a potencia de base 2. Nesse caso, como trata-se de números de 0 a 100, **com 7 tentativas, é possível adivinhar qualquer número compreendido nesse intervalo, uma vez que 2 elevado a 7 é a primeira potencia de base 2 em que o valor ultrapassa 100**.\n",
    "\n",
    "No código, utilizei um *ciclo while* com a limitação de que o número de jogadas seja sempre, no máximo, 7 (i<8). Outra restrição, foi a atribuição de um valor lógico a uma variável (encontrado=False), que, após chegar ao número pretendido, alterna o valor (encontrado=True) e interrompe o ciclo. Como trata-se de sucessivas divisões por 2, em alguns casos, o valor obtido não é inteiro, portanto, foi necessário usar a função *round()* para que faça as aproximações necessárias. Ao fim do jogo, o utilizador tem a opção de iniciar novamente e, portanto, foi utilizada a função recursiva *return*.\n"
   ]
  },
  {
   "cell_type": "code",
   "execution_count": null,
   "id": "f967d44c",
   "metadata": {},
   "outputs": [],
   "source": [
    "def adivinha():\n",
    "    i=1\n",
    "    x=50\n",
    "    print('Pense em número de 0 a 100 e tentarei adivinhá-lo!')\n",
    "    encontrado=False\n",
    "    while i<8 and encontrado==False:\n",
    "        b=input(\"O número que pensaste é igual a %s (introduza 'i'), maior (introduza 'M') ou menor (introduza 'm')?\" %(x))\n",
    "        if b=='M':\n",
    "            x=x+(50/(2**i))\n",
    "            x=round(x)\n",
    "            i=i+1\n",
    "        elif b=='m':\n",
    "            x=x-(50/(2**i))\n",
    "            x=round(x)\n",
    "            i=i+1\n",
    "        elif b=='i':\n",
    "            print('Número encontrado!')\n",
    "            print('Com',i,'tentativas, eu consegui adivinhar o número que tu pensaste!')\n",
    "            encontrado=True\n",
    "        else:\n",
    "            print('Introduza uma letra correta: i, M ou m')\n",
    "    if encontrado==True:\n",
    "        c=input(\"Desejas jogar novamente? Introduza 'S' para SIM e 'N' para NÃO\")\n",
    "        d=c.upper()\n",
    "        if d=='S':\n",
    "            return adivinha()\n",
    "        else:\n",
    "            print('Até a próxima!')\n",
    "adivinha()"
   ]
  }
 ],
 "metadata": {
  "kernelspec": {
   "display_name": "Python 3",
   "language": "python",
   "name": "python3"
  },
  "language_info": {
   "codemirror_mode": {
    "name": "ipython",
    "version": 3
   },
   "file_extension": ".py",
   "mimetype": "text/x-python",
   "name": "python",
   "nbconvert_exporter": "python",
   "pygments_lexer": "ipython3",
   "version": "3.8.8"
  }
 },
 "nbformat": 4,
 "nbformat_minor": 5
}
