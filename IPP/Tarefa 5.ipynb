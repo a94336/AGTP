{
 "cells": [
  {
   "cell_type": "markdown",
   "id": "7e9f23bb-fc01-4409-ab48-ed3004134378",
   "metadata": {},
   "source": [
    "#### Exercício 1"
   ]
  },
  {
   "cell_type": "markdown",
   "id": "0f1b75e9-defc-4dd4-b10f-b56d2adaf3f7",
   "metadata": {},
   "source": [
    "##### Alínea a"
   ]
  },
  {
   "cell_type": "code",
   "execution_count": 1,
   "id": "bd02e04c-5e7a-4e97-8215-48415d673be1",
   "metadata": {},
   "outputs": [],
   "source": [
    "def parametro_1():\n",
    "    a=float(input('Introduza o valor de a: '))\n",
    "    return a\n",
    "def expressao_1():\n",
    "    a=parametro_1()\n",
    "    x=a*1.345\n",
    "    return x"
   ]
  },
  {
   "cell_type": "code",
   "execution_count": 2,
   "id": "206c2dcb-c741-4f3b-aed7-861105e7bddf",
   "metadata": {},
   "outputs": [
    {
     "name": "stdin",
     "output_type": "stream",
     "text": [
      "Introduza o valor de a:  10\n"
     ]
    },
    {
     "data": {
      "text/plain": [
       "13.45"
      ]
     },
     "execution_count": 2,
     "metadata": {},
     "output_type": "execute_result"
    }
   ],
   "source": [
    "expressao_1()"
   ]
  },
  {
   "cell_type": "markdown",
   "id": "d68ada82-a71e-4b4c-8307-69b0d3d4cae2",
   "metadata": {},
   "source": [
    "##### Alínea b"
   ]
  },
  {
   "cell_type": "code",
   "execution_count": 3,
   "id": "41cf5f22-9672-40d7-b227-e94a5580ffd7",
   "metadata": {},
   "outputs": [],
   "source": [
    "def parametro_2():\n",
    "    a=float(input('Introduza o valor de a: '))\n",
    "    b=float(input('Introduza o valor de b DIFERENTE de zero: '))\n",
    "    x=float(input('Introduza o valor de x: '))\n",
    "    return a,b,x\n",
    "def expressao_2():\n",
    "    a,b,x=parametro_2()\n",
    "    y=(a*x)/(b*9.54)\n",
    "    return y"
   ]
  },
  {
   "cell_type": "code",
   "execution_count": 4,
   "id": "6728c713-0ba1-4cca-98f9-82d0982bd594",
   "metadata": {},
   "outputs": [
    {
     "name": "stdin",
     "output_type": "stream",
     "text": [
      "Introduza o valor de a:  10\n",
      "Introduza o valor de b DIFERENTE de zero:  10\n",
      "Introduza o valor de x:  10\n"
     ]
    },
    {
     "data": {
      "text/plain": [
       "1.0482180293501049"
      ]
     },
     "execution_count": 4,
     "metadata": {},
     "output_type": "execute_result"
    }
   ],
   "source": [
    "expressao_2()"
   ]
  },
  {
   "cell_type": "markdown",
   "id": "1267e433-5634-4486-9874-36138c2c2c57",
   "metadata": {},
   "source": [
    "##### Alínea c"
   ]
  },
  {
   "cell_type": "code",
   "execution_count": 5,
   "id": "09b4b029-1453-4641-81ff-53fc5cbf3fca",
   "metadata": {},
   "outputs": [],
   "source": [
    "def parametro_3():\n",
    "    a=float(input('Introduza o valor de a: '))\n",
    "    b=float(input('Introduza o valor de b: '))\n",
    "    c=float(input('Introduza o valor de c: '))\n",
    "    d=float(input('Introduza o valor de d: '))\n",
    "    e=float(input('Introduza o valor de e: '))\n",
    "    f=float(input('Introduza o valor de f: '))\n",
    "    g=float(input('Introduza o valor de g DIFERENTE de zero: '))\n",
    "    x=float(input('Introduza o valor de x: '))\n",
    "    y=float(input('Introduza o valor de y: '))\n",
    "    return a,b,c,d,e,f,g,x,y\n",
    "def expressao_3():\n",
    "    a,b,c,d,e,f,g,x,y=parametro_3()\n",
    "    r=((((a+b+c)/3)*x)+(((d+e+f)/(g*5))*y))\n",
    "    return r"
   ]
  },
  {
   "cell_type": "code",
   "execution_count": 6,
   "id": "a989c6da-9d44-4328-8e7e-f0b085f882e9",
   "metadata": {},
   "outputs": [
    {
     "name": "stdin",
     "output_type": "stream",
     "text": [
      "Introduza o valor de a:  10\n",
      "Introduza o valor de b:  10\n",
      "Introduza o valor de c:  10\n",
      "Introduza o valor de d:  10\n",
      "Introduza o valor de e:  10\n",
      "Introduza o valor de f:  10\n",
      "Introduza o valor de g DIFERENTE de zero:  10\n",
      "Introduza o valor de x:  10\n",
      "Introduza o valor de y:  10\n"
     ]
    },
    {
     "data": {
      "text/plain": [
       "106.0"
      ]
     },
     "execution_count": 6,
     "metadata": {},
     "output_type": "execute_result"
    }
   ],
   "source": [
    "expressao_3()"
   ]
  },
  {
   "cell_type": "markdown",
   "id": "8c2e97c9-7738-4eec-9d63-a4f36ab2f91c",
   "metadata": {},
   "source": [
    "##### Alínea d"
   ]
  },
  {
   "cell_type": "code",
   "execution_count": 9,
   "id": "05222cad-7782-4c62-b208-5fe7f3c491f3",
   "metadata": {},
   "outputs": [],
   "source": [
    "from math import sqrt\n",
    "def parametro_4():\n",
    "    a=float(input('Introduza o valor de a: '))\n",
    "    b=float(input('Introduza o valor de b: '))\n",
    "    c=float(input('Introduza o valor de c: '))\n",
    "    d=float(input('Introduza o valor de d: '))\n",
    "    return a,b,c,d\n",
    "def expressao_4():\n",
    "    a,b,c,d=parametro_4()\n",
    "    r=a-(((b+c)/2)*sqrt(c+d))\n",
    "    return r"
   ]
  },
  {
   "cell_type": "code",
   "execution_count": 10,
   "id": "0f2f9ed5-4b87-4adb-8a22-d18ef4a14a6a",
   "metadata": {},
   "outputs": [
    {
     "name": "stdin",
     "output_type": "stream",
     "text": [
      "Introduza o valor de a:  10\n",
      "Introduza o valor de b:  10\n",
      "Introduza o valor de c:  10\n",
      "Introduza o valor de d:  10\n"
     ]
    },
    {
     "data": {
      "text/plain": [
       "-34.721359549995796"
      ]
     },
     "execution_count": 10,
     "metadata": {},
     "output_type": "execute_result"
    }
   ],
   "source": [
    "expressao_4()"
   ]
  },
  {
   "cell_type": "markdown",
   "id": "16baf299-8d97-4e18-a1b6-58411ff34d5c",
   "metadata": {},
   "source": [
    "#### Exercício 2"
   ]
  },
  {
   "cell_type": "code",
   "execution_count": 11,
   "id": "ae5ef6e2-fe6a-458c-914e-7366a01a8713",
   "metadata": {},
   "outputs": [],
   "source": [
    "def maximo(x,y):\n",
    "    maxim=x\n",
    "    if y>x:\n",
    "        maxim=y\n",
    "    return maxim"
   ]
  },
  {
   "cell_type": "code",
   "execution_count": 12,
   "id": "adf6a711-9ad2-4830-8247-24d6b44183d0",
   "metadata": {},
   "outputs": [
    {
     "data": {
      "text/plain": [
       "2"
      ]
     },
     "execution_count": 12,
     "metadata": {},
     "output_type": "execute_result"
    }
   ],
   "source": [
    "maximo(1,2)"
   ]
  },
  {
   "cell_type": "markdown",
   "id": "a70605fe-f5bd-450b-8723-27e386922b83",
   "metadata": {},
   "source": [
    "#### Exercício 3"
   ]
  },
  {
   "cell_type": "code",
   "execution_count": 13,
   "id": "a9987ebd-d392-4a82-bffe-23326370963d",
   "metadata": {},
   "outputs": [],
   "source": [
    "def maximo_3(x,y,z):\n",
    "    maxim=x\n",
    "    if y>x and y>z:\n",
    "        maxim=y\n",
    "    elif z>x and z>y:\n",
    "        maxim=z\n",
    "    return maxim"
   ]
  },
  {
   "cell_type": "code",
   "execution_count": 14,
   "id": "da5c4b29-f4a9-45ce-9e0d-6cd77fff350e",
   "metadata": {},
   "outputs": [
    {
     "data": {
      "text/plain": [
       "3"
      ]
     },
     "execution_count": 14,
     "metadata": {},
     "output_type": "execute_result"
    }
   ],
   "source": [
    "maximo_3(1,2,3)"
   ]
  },
  {
   "cell_type": "markdown",
   "id": "82b9399f-47c1-42ef-b646-0848456c7f7c",
   "metadata": {},
   "source": [
    "#### Exercício 4"
   ]
  },
  {
   "cell_type": "code",
   "execution_count": 19,
   "id": "acbebd69-085c-4238-b8b0-04894ef3ed83",
   "metadata": {},
   "outputs": [],
   "source": [
    "from math import inf\n",
    "def maximo_n():\n",
    "    n=int(input('Introduza o número de valores a comparar: '))\n",
    "    maximo=-inf\n",
    "    minimo=inf\n",
    "    for i in range(n):\n",
    "        a=int(input('Introduza o valor: '))\n",
    "        if a>maximo:\n",
    "            maximo=a\n",
    "        if a<minimo:\n",
    "            minimo=a\n",
    "    print('O valor máximo é ',maximo)\n",
    "    print('O valor mínimo é ',minimo)"
   ]
  },
  {
   "cell_type": "code",
   "execution_count": 20,
   "id": "9947f6c8-0801-4215-b2e6-78958c37061a",
   "metadata": {},
   "outputs": [
    {
     "name": "stdin",
     "output_type": "stream",
     "text": [
      "Introduza o número de valores a comparar:  4\n",
      "Introduza o valor:  1\n",
      "Introduza o valor:  2\n",
      "Introduza o valor:  3\n",
      "Introduza o valor:  5\n"
     ]
    },
    {
     "name": "stdout",
     "output_type": "stream",
     "text": [
      "O valor máximo é  5\n",
      "O valor mínimo é  1\n"
     ]
    }
   ],
   "source": [
    "maximo_n()"
   ]
  },
  {
   "cell_type": "markdown",
   "id": "bab3ebcf-e84d-438b-ba53-5408b536a1e0",
   "metadata": {},
   "source": [
    "#### Exercício 5"
   ]
  },
  {
   "cell_type": "code",
   "execution_count": 24,
   "id": "d99eae84-93c7-4642-b8f1-ea678821d789",
   "metadata": {},
   "outputs": [],
   "source": [
    "def polinomio(x):\n",
    "    if x!=0:\n",
    "        y1=((x+1)/x)**x\n",
    "        y2=2*((x+1)/x)**(2*x)\n",
    "        y3=3*((x+1)/x)**(3*x)\n",
    "        y=y1+y2+y3\n",
    "        return y\n",
    "    else:\n",
    "        print('Não é possível calcular o valor de Y: x é igual a 0')"
   ]
  },
  {
   "cell_type": "code",
   "execution_count": 25,
   "id": "8feb6e4a-98b9-4000-b95b-42369646c277",
   "metadata": {},
   "outputs": [
    {
     "data": {
      "text/plain": [
       "53.56256668190822"
      ]
     },
     "execution_count": 25,
     "metadata": {},
     "output_type": "execute_result"
    }
   ],
   "source": [
    "polinomio(3)"
   ]
  },
  {
   "cell_type": "markdown",
   "id": "87b58840-7f83-4b6f-b178-a1c2b6e34c63",
   "metadata": {},
   "source": [
    "#### Exercício 6"
   ]
  },
  {
   "cell_type": "code",
   "execution_count": 26,
   "id": "aa9efe7c-0eff-4cde-afeb-e7bfbb504df4",
   "metadata": {},
   "outputs": [],
   "source": [
    "def vencimento(VB,Id,NF,AS):\n",
    "    if Id>25:\n",
    "        VB=VB+0.01*(Id-25)*VB\n",
    "    VB=VB+0.03*VB*AS\n",
    "    VB=VB+0.05*VB*NF\n",
    "    return VB"
   ]
  },
  {
   "cell_type": "code",
   "execution_count": 28,
   "id": "2b031700-eb0d-4c07-b26a-15b7b3de0a30",
   "metadata": {},
   "outputs": [
    {
     "data": {
      "text/plain": [
       "774.375"
      ]
     },
     "execution_count": 28,
     "metadata": {},
     "output_type": "execute_result"
    }
   ],
   "source": [
    "vencimento(500,30,5,6)"
   ]
  },
  {
   "cell_type": "markdown",
   "id": "3655b608-48d5-400d-a60d-e24d4c51d86c",
   "metadata": {},
   "source": [
    "#### Exercício 7"
   ]
  },
  {
   "cell_type": "code",
   "execution_count": 31,
   "id": "3e176ef0-0782-4dad-9782-b9e81b615ecf",
   "metadata": {},
   "outputs": [],
   "source": [
    "def classificar_triang(lmax,l1,l2):\n",
    "    if lmax>= (l1+l2):\n",
    "        tipo='O triângulo não existe'\n",
    "    elif (lmax**2) == l1**2 + l2**2:\n",
    "        tipo='O triângulo é retângulo'\n",
    "    elif  (lmax**2) > l1**2 + l2**2:\n",
    "        tipo='O triângulo é obtuso'\n",
    "    elif  (lmax**2) < l1**2 + l2**2:\n",
    "        tipo='O triângulo é agudo'\n",
    "    return tipo\n",
    "def teste():\n",
    "    print('Introduza os lados do triângulo')\n",
    "    lmax=float(input('Introduza o MAIOR lado do triângulo: '))\n",
    "    l1=float(input('Introduza o segundo lado do triângulo: '))\n",
    "    l2=float(input('Introduza o terceiro lado do triângulo: '))\n",
    "    classificacao=classificar_triang(lmax,l1,l2)\n",
    "    print(classificacao)"
   ]
  },
  {
   "cell_type": "code",
   "execution_count": 32,
   "id": "8380ad69-7a28-4f20-adc1-130cac462f31",
   "metadata": {},
   "outputs": [
    {
     "name": "stdout",
     "output_type": "stream",
     "text": [
      "Introduza os lados do triângulo\n"
     ]
    },
    {
     "name": "stdin",
     "output_type": "stream",
     "text": [
      "Introduza o MAIOR lado do triângulo:  6\n",
      "Introduza o segundo lado do triângulo:  5\n",
      "Introduza o terceiro lado do triângulo:  4\n"
     ]
    },
    {
     "name": "stdout",
     "output_type": "stream",
     "text": [
      "O triângulo é agudo\n"
     ]
    }
   ],
   "source": [
    "teste()"
   ]
  },
  {
   "cell_type": "markdown",
   "id": "2fe19a37-ca2f-44eb-b97e-490551aad749",
   "metadata": {},
   "source": [
    "#### Exercício 8"
   ]
  },
  {
   "cell_type": "code",
   "execution_count": 42,
   "id": "6c8e8509-bbea-4bdb-b118-e021fd7c64cf",
   "metadata": {},
   "outputs": [],
   "source": [
    "from math import sqrt\n",
    "def raizes(a,b,c):\n",
    "    delta=(b**2)-4*a*c\n",
    "    if delta<0:\n",
    "        return('Não possuí raízes reais')\n",
    "    y1=(-b+sqrt(delta))/2*a\n",
    "    y2=(-b-sqrt(delta))/2*a\n",
    "    return y1,y2"
   ]
  },
  {
   "cell_type": "code",
   "execution_count": 43,
   "id": "a2452da1-482f-4d19-9c89-5a8b105d6b36",
   "metadata": {},
   "outputs": [
    {
     "data": {
      "text/plain": [
       "'Não possuí raízes reais'"
      ]
     },
     "execution_count": 43,
     "metadata": {},
     "output_type": "execute_result"
    }
   ],
   "source": [
    "raizes(1,2,3)"
   ]
  },
  {
   "cell_type": "markdown",
   "id": "26630481-5247-4b9c-9585-7646e6ef0656",
   "metadata": {},
   "source": [
    "#### Exercício 9"
   ]
  },
  {
   "cell_type": "code",
   "execution_count": 52,
   "id": "7742854e-94d6-4bc4-a8a1-1a4c69e7a7bc",
   "metadata": {},
   "outputs": [],
   "source": [
    "def conversao(esc):\n",
    "    moeda=input('Qual a unidade monetária? P para pesetas, F para francos, L para libras, E para euros')\n",
    "    conv=esc\n",
    "    if moeda=='P':\n",
    "        pes=esc/0.82993\n",
    "        conv=pes\n",
    "    elif moeda=='F':\n",
    "        fran=esc/0.00511421\n",
    "        conv=fran\n",
    "    elif moeda=='L':\n",
    "        libr=esc/0.0042019879\n",
    "        conv=libr\n",
    "    elif moeda=='E':\n",
    "        eur=esc/0.004987979\n",
    "        conv=eur\n",
    "    return conv"
   ]
  },
  {
   "cell_type": "code",
   "execution_count": 53,
   "id": "f765c0d1-993e-415a-a7b9-83ced1a65510",
   "metadata": {},
   "outputs": [
    {
     "name": "stdin",
     "output_type": "stream",
     "text": [
      "Qual a unidade monetária? P para pesetas, F para francos, L para libras, E para euros P\n"
     ]
    },
    {
     "data": {
      "text/plain": [
       "1.2049208969431158"
      ]
     },
     "execution_count": 53,
     "metadata": {},
     "output_type": "execute_result"
    }
   ],
   "source": [
    "conversao(1)"
   ]
  },
  {
   "cell_type": "markdown",
   "id": "94542800",
   "metadata": {},
   "source": [
    "#### Exercício 10"
   ]
  },
  {
   "cell_type": "code",
   "execution_count": 3,
   "id": "5c65339b-55ef-43dd-b10d-db19186a6cf0",
   "metadata": {},
   "outputs": [],
   "source": [
    "def calc():\n",
    "    Op=input('Introduza o operador (+,-,x,/): ')\n",
    "    X=float(input('Introduza o valor do operando: '))\n",
    "    Y=float(input('Introduza o valor do operando: '))\n",
    "    if Op=='+':\n",
    "        R=X+Y\n",
    "        print ('O resultado da adição é ', R)\n",
    "    else:\n",
    "        if Op=='-':\n",
    "            R=X-Y\n",
    "            print ('O resultado da subtração é ',R)\n",
    "        else:\n",
    "            if Op=='x':\n",
    "                R=X*Y\n",
    "                print ('O resultado da multiplicação é ',R)\n",
    "            else:\n",
    "                if Op=='/':\n",
    "                    if Y!=0:\n",
    "                        R=X/Y\n",
    "                        print ('O resultado da divisão é ', R)\n",
    "                    else:\n",
    "                        print ('Não é possível realizar a divisão')"
   ]
  },
  {
   "cell_type": "code",
   "execution_count": 4,
   "id": "e2fb4f2c",
   "metadata": {},
   "outputs": [
    {
     "name": "stdout",
     "output_type": "stream",
     "text": [
      "Introduza o operador (+,-,x,/): -\n",
      "Introduza o valor do operando: 10\n",
      "Introduza o valor do operando: 4\n",
      "O resultado da subtração é  6.0\n"
     ]
    }
   ],
   "source": [
    "calc()"
   ]
  },
  {
   "cell_type": "code",
   "execution_count": null,
   "id": "7e407ffb",
   "metadata": {},
   "outputs": [],
   "source": []
  }
 ],
 "metadata": {
  "kernelspec": {
   "display_name": "Python 3",
   "language": "python",
   "name": "python3"
  },
  "language_info": {
   "codemirror_mode": {
    "name": "ipython",
    "version": 3
   },
   "file_extension": ".py",
   "mimetype": "text/x-python",
   "name": "python",
   "nbconvert_exporter": "python",
   "pygments_lexer": "ipython3",
   "version": "3.8.8"
  }
 },
 "nbformat": 4,
 "nbformat_minor": 5
}
