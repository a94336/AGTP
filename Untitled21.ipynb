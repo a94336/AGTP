{
 "cells": [
  {
   "cell_type": "code",
   "execution_count": 1,
   "id": "915670b6",
   "metadata": {},
   "outputs": [],
   "source": [
    "def inserirFilme(bd,title,year,cast,genres):\n",
    "    filme={}\n",
    "    filme['title']=title\n",
    "    filme['year']=year\n",
    "    filme['cast']=cast\n",
    "    filme['genres']=genres\n",
    "    filme['id']='f'+str(len(bd)+1)\n",
    "    bd.append(filme)\n",
    "    return bd"
   ]
  },
  {
   "cell_type": "code",
   "execution_count": 2,
   "id": "ad3ec5c3",
   "metadata": {},
   "outputs": [
    {
     "data": {
      "text/plain": [
       "[{'title': 'Spider-Man: No Way Home',\n",
       "  'year': 2020,\n",
       "  'cast': ['Tom Holland', 'Zendaya'],\n",
       "  'genres': ['Action', 'Adventure', 'Fantasy'],\n",
       "  'id': 'f1'}]"
      ]
     },
     "execution_count": 2,
     "metadata": {},
     "output_type": "execute_result"
    }
   ],
   "source": [
    "bd=[]\n",
    "inserirFilme (bd,'Spider-Man: No Way Home',2020,['Tom Holland', 'Zendaya'],['Action','Adventure','Fantasy'])"
   ]
  },
  {
   "cell_type": "code",
   "execution_count": 3,
   "id": "822bf4ca",
   "metadata": {},
   "outputs": [],
   "source": [
    "def listarFilmes(bd):\n",
    "    filmes=[]\n",
    "    for elem in bd:\n",
    "        filme=[]\n",
    "        filme.append(elem['id'])\n",
    "        filme.append(elem['title'])\n",
    "        filmes.append(filme)\n",
    "    filmes.sort(key=lambda x:x[1])\n",
    "    return filmes"
   ]
  },
  {
   "cell_type": "code",
   "execution_count": null,
   "id": "8f875a5d",
   "metadata": {},
   "outputs": [],
   "source": [
    "bd=[{'title':'Spider-Man: No Way Home','year':2020,'cast':['Tom Holland', 'Zendaya'],'genres':['Action', 'Adventure', 'Fantasy'],'id':'f1'}]"
   ]
  },
  {
   "cell_type": "code",
   "execution_count": 5,
   "id": "f683379a",
   "metadata": {},
   "outputs": [
    {
     "data": {
      "text/plain": [
       "[['f1', 'Spider-Man: No Way Home']]"
      ]
     },
     "execution_count": 5,
     "metadata": {},
     "output_type": "execute_result"
    }
   ],
   "source": [
    "listarFilmes(bd)"
   ]
  },
  {
   "cell_type": "code",
   "execution_count": 18,
   "id": "a8fe68f0",
   "metadata": {},
   "outputs": [],
   "source": [
    "def consultarID(bd,id):\n",
    "    a=[]\n",
    "    for filme in bd:\n",
    "        if filme['id']==id:\n",
    "            a.append(filme)\n",
    "    return a"
   ]
  },
  {
   "cell_type": "code",
   "execution_count": 19,
   "id": "66f2c1a6",
   "metadata": {},
   "outputs": [],
   "source": [
    "bd=[{'title':'Spider-Man: No Way Home','year':2020,'cast':['Tom Holland', 'Zendaya'],'genres':['Action', 'Adventure', 'Fantasy'],'id':'f1'}]"
   ]
  },
  {
   "cell_type": "code",
   "execution_count": 20,
   "id": "a594faca",
   "metadata": {},
   "outputs": [
    {
     "data": {
      "text/plain": [
       "[{'title': 'Spider-Man: No Way Home',\n",
       "  'year': 2020,\n",
       "  'cast': ['Tom Holland', 'Zendaya'],\n",
       "  'genres': ['Action', 'Adventure', 'Fantasy'],\n",
       "  'id': 'f1'}]"
      ]
     },
     "execution_count": 20,
     "metadata": {},
     "output_type": "execute_result"
    }
   ],
   "source": [
    "consultarID(bd,'f1')"
   ]
  },
  {
   "cell_type": "code",
   "execution_count": 21,
   "id": "bd0c038c",
   "metadata": {},
   "outputs": [],
   "source": [
    "def consultarNome(bd,nome):\n",
    "    filmes=[]\n",
    "    novoNome=nome.upper()\n",
    "    for filme in bd:\n",
    "        titulo=filme['title'].upper()\n",
    "        if novoNome in titulo:\n",
    "            filmes.append(filme)\n",
    "    return filmes"
   ]
  },
  {
   "cell_type": "code",
   "execution_count": 22,
   "id": "354db109",
   "metadata": {},
   "outputs": [
    {
     "data": {
      "text/plain": [
       "[{'title': 'Spider-Man: No Way Home',\n",
       "  'year': 2020,\n",
       "  'cast': ['Tom Holland', 'Zendaya'],\n",
       "  'genres': ['Action', 'Adventure', 'Fantasy'],\n",
       "  'id': 'f1'}]"
      ]
     },
     "execution_count": 22,
     "metadata": {},
     "output_type": "execute_result"
    }
   ],
   "source": [
    "consultarNome(bd,'Spider')"
   ]
  },
  {
   "cell_type": "code",
   "execution_count": 23,
   "id": "38dfa739",
   "metadata": {},
   "outputs": [],
   "source": [
    "def genero(bd,g):\n",
    "    filmes=[]\n",
    "    for filme in bd:\n",
    "        if g in filme['genres']:\n",
    "            f=[]\n",
    "            f.append(filme['id'])\n",
    "            f.append(filme['title'])\n",
    "            filmes.append(f)\n",
    "    return filmes"
   ]
  },
  {
   "cell_type": "code",
   "execution_count": 24,
   "id": "1c78e2bd",
   "metadata": {},
   "outputs": [
    {
     "data": {
      "text/plain": [
       "[['f1', 'Spider-Man: No Way Home']]"
      ]
     },
     "execution_count": 24,
     "metadata": {},
     "output_type": "execute_result"
    }
   ],
   "source": [
    "genero(bd,'Action')"
   ]
  },
  {
   "cell_type": "code",
   "execution_count": 25,
   "id": "19e24537",
   "metadata": {},
   "outputs": [],
   "source": [
    "def distribGenero(d):\n",
    "    distribuicaoG={}\n",
    "    for filme in d:\n",
    "        for genero in filme['genres']:\n",
    "            if genero in distribuicaoG.keys():\n",
    "                distribuicaoG[genero]=distribuicaoG[genero]+1\n",
    "            else:\n",
    "                distribuicaoG[genero]=1\n",
    "    return distribuicaoG"
   ]
  },
  {
   "cell_type": "code",
   "execution_count": 27,
   "id": "bdcb31c5",
   "metadata": {},
   "outputs": [
    {
     "data": {
      "text/plain": [
       "{'Action': 1, 'Adventure': 1, 'Fantasy': 1}"
      ]
     },
     "execution_count": 27,
     "metadata": {},
     "output_type": "execute_result"
    }
   ],
   "source": [
    "distribGenero(bd)"
   ]
  },
  {
   "cell_type": "code",
   "execution_count": 28,
   "id": "1f557ed1",
   "metadata": {},
   "outputs": [],
   "source": [
    "def distribAtor(d):\n",
    "    distribuicaoA={}\n",
    "    for filme in d:\n",
    "        for ator in filme['cast']:\n",
    "            if ator in distribuicaoA.keys():\n",
    "                distribuicaoA[ator]=distribuicaoA[ator]+1\n",
    "            else:\n",
    "                distribuicaoA[ator]=1\n",
    "    atores=sorted(distribuicaoA.items(),key=lambda x:x[1], reverse=True)\n",
    "    atores.pop(0) #atores[0]=and\n",
    "    atores.pop(1) #atores[1]=voice\n",
    "    atores=atores[:10]\n",
    "    return atores"
   ]
  },
  {
   "cell_type": "code",
   "execution_count": 30,
   "id": "5080e002",
   "metadata": {},
   "outputs": [],
   "source": [
    "def calcListaAtores(bd):\n",
    "    ator=[]\n",
    "    for filme in bd:\n",
    "        for a in filme['cast']:\n",
    "            if (a >= 'a' and a<='z') or (a >= 'A' and a<='Z'):\n",
    "                if a not in ator:\n",
    "                    ator.append(a)\n",
    "    ator.sort()\n",
    "    return ator\n",
    "\n",
    "def calcListaFilmes(bd,a):\n",
    "    filmes=[]\n",
    "    for filme in bd:\n",
    "        if a in filme['cast']:\n",
    "            filmes.append((filme['title'],filme['id']))\n",
    "    return filmes\n",
    "\n",
    "def indAtores(bd):\n",
    "    indiceAtores=[]\n",
    "    listaA = calcListaAtores(bd)\n",
    "    for i in listaA:\n",
    "            indiceAtores.append({\n",
    "                'Ator':i,\n",
    "                'Filmes':calcListaFilmes(bd,i)})\n",
    "    return indiceAtores"
   ]
  },
  {
   "cell_type": "code",
   "execution_count": 31,
   "id": "d850fab6",
   "metadata": {},
   "outputs": [
    {
     "data": {
      "text/plain": [
       "[{'Ator': 'Tom Holland', 'Filmes': [('Spider-Man: No Way Home', 'f1')]}]"
      ]
     },
     "execution_count": 31,
     "metadata": {},
     "output_type": "execute_result"
    }
   ],
   "source": [
    "indAtores(bd)"
   ]
  },
  {
   "cell_type": "code",
   "execution_count": 32,
   "id": "de86654d",
   "metadata": {},
   "outputs": [],
   "source": [
    "def calcListaGeneros(bd):\n",
    "    genero=[]\n",
    "    for filme in bd:\n",
    "        for a in filme['genres']:\n",
    "            if a not in genero:\n",
    "                genero.append(a)\n",
    "    genero.sort()\n",
    "    return genero\n",
    "\n",
    "def calcListaFilme(bd,a):\n",
    "    filmes=[]\n",
    "    for filme in bd:\n",
    "        if a in filme['genres']:\n",
    "            filmes.append((filme['title'],filme['id']))\n",
    "    return filmes\n",
    "\n",
    "def indGeneros(bd):\n",
    "    indiceGeneros=[]\n",
    "    listaG = calcListaGeneros(bd)\n",
    "    for i in listaG:\n",
    "        indiceGeneros.append({\n",
    "            'Género':i,\n",
    "            'Filmes':calcListaFilme(bd,i)})\n",
    "    return indiceGeneros"
   ]
  },
  {
   "cell_type": "code",
   "execution_count": 33,
   "id": "8e1cf53c",
   "metadata": {},
   "outputs": [
    {
     "data": {
      "text/plain": [
       "[{'Género': 'Action', 'Filmes': [('Spider-Man: No Way Home', 'f1')]},\n",
       " {'Género': 'Adventure', 'Filmes': [('Spider-Man: No Way Home', 'f1')]},\n",
       " {'Género': 'Fantasy', 'Filmes': [('Spider-Man: No Way Home', 'f1')]}]"
      ]
     },
     "execution_count": 33,
     "metadata": {},
     "output_type": "execute_result"
    }
   ],
   "source": [
    "indGeneros(bd)"
   ]
  },
  {
   "cell_type": "code",
   "execution_count": null,
   "id": "feb05ebb",
   "metadata": {},
   "outputs": [],
   "source": []
  }
 ],
 "metadata": {
  "kernelspec": {
   "display_name": "Python 3",
   "language": "python",
   "name": "python3"
  },
  "language_info": {
   "codemirror_mode": {
    "name": "ipython",
    "version": 3
   },
   "file_extension": ".py",
   "mimetype": "text/x-python",
   "name": "python",
   "nbconvert_exporter": "python",
   "pygments_lexer": "ipython3",
   "version": "3.8.8"
  }
 },
 "nbformat": 4,
 "nbformat_minor": 5
}
