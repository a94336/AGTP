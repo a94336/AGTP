{
 "cells": [
  {
   "cell_type": "markdown",
   "id": "51bfaeff",
   "metadata": {},
   "source": [
    "# Aula TP6"
   ]
  },
  {
   "cell_type": "markdown",
   "id": "cddb99e5",
   "metadata": {},
   "source": [
    "* Identificador: TPC6\n",
    "* Título: Gráficos\n",
    "* Data inicío: 2021-11-19\n",
    "* Data fim: 2021-11-21\n",
    "* Supervisor: José Carlos Leite Ramalho, https://www4.di.uminho.pt/~jcr/\n",
    "* Autor: Bernardo Moraes, A94336"
   ]
  },
  {
   "cell_type": "markdown",
   "id": "ff0b5460",
   "metadata": {},
   "source": [
    "### Resumo\n",
    "\n",
    "Durante a sexta aula teórico-prática, foi proposta aos alunos, a realização dos exercícios presentes no guião relacionados a elaboração e geração de gráficos. Após analisar os exemplos presentes na ficha, foram utilizadas o módulo **plot** e **pandas** para a conclusão dos exercícios."
   ]
  },
  {
   "cell_type": "markdown",
   "id": "a8ba7774",
   "metadata": {},
   "source": [
    "### Exercício 1: desenha um quadrado centrado na origem com 5 unidades de lado"
   ]
  },
  {
   "cell_type": "code",
   "execution_count": 51,
   "id": "f10cd39a",
   "metadata": {},
   "outputs": [
    {
     "data": {
      "image/png": "[encoded data removed]",
      "text/plain": [
       "<Figure size 432x288 with 1 Axes>"
      ]
     },
     "metadata": {
      "needs_background": "light"
     },
     "output_type": "display_data"
    }
   ],
   "source": [
    "import matplotlib.pyplot as plt\n",
    "\n",
    "x=[-2.5,2.5,2.5,-2.5,-2.5]\n",
    "y=[2.5,2.5,-2.5,-2.5,2.5]\n",
    "plt.plot(x,y,label='Quadrado')\n",
    "plt.xlabel('X')\n",
    "plt.ylabel('Y')\n",
    "plt.title('Quadrado centrado na origem de lado 5')\n",
    "\n",
    "eixoXX=[-5,5]\n",
    "eixoXY=[0,0]\n",
    "plt.plot(eixoXX,eixoXY,label='Eixo do X')\n",
    "\n",
    "eixoXY=[0,0]\n",
    "eixoYY=[-5,5]\n",
    "plt.plot(eixoXY,eixoYY,label='Eixo do Y')\n",
    "plt.show()"
   ]
  },
  {
   "cell_type": "markdown",
   "id": "5879f402",
   "metadata": {},
   "source": [
    "### Exercício 2: desenha n quadrados centrados na origem com lados 1..10"
   ]
  },
  {
   "cell_type": "code",
   "execution_count": 60,
   "id": "a1446a62",
   "metadata": {},
   "outputs": [
    {
     "data": {
      "image/png": "[encoded data removed]",
      "text/plain": [
       "<Figure size 432x288 with 1 Axes>"
      ]
     },
     "metadata": {
      "needs_background": "light"
     },
     "output_type": "display_data"
    }
   ],
   "source": [
    "import matplotlib.pyplot as plt\n",
    "i=1\n",
    "for i in range (1,6):\n",
    "    x=[-i,i,i,-i,-i]\n",
    "    y=[i,i,-i,-i,i]\n",
    "    plt.plot(x,y)\n",
    "plt.title('Quadrados')\n",
    "\n",
    "eixoXX=[-6,6]\n",
    "eixoXY=[0,0]\n",
    "plt.plot(eixoXX,eixoXY,label='Eixo do X')\n",
    "\n",
    "eixoXY=[0,0]\n",
    "eixoYY=[-6,6]\n",
    "plt.plot(eixoXY,eixoYY,label='Eixo do Y')\n",
    "plt.show()"
   ]
  },
  {
   "cell_type": "markdown",
   "id": "9831ba26",
   "metadata": {},
   "source": [
    "### Exercício 3: representa graficamente os seguintes polinómios\n",
    "* 2x - 5\n",
    "* x^2 - 7\n",
    "* x^3 - 2x^2 + 1\n",
    "\n",
    "Para isso:\n",
    "* Descarrega o módulo polinómio, desenvolvido pelo docente;\n",
    "* Cria um programa e define os 3 polinómios;\n",
    "* Cria uma representação gráfica para: x = x; y = plo(x);\n",
    "* Em que x = [-100, 100] e y = [-200, 200];\n",
    "* Visualiza os resultados e adapta a escala dos eixos para uma melhor visualização de cada polinómio."
   ]
  },
  {
   "cell_type": "code",
   "execution_count": 65,
   "id": "d4536073",
   "metadata": {},
   "outputs": [],
   "source": [
    "import polinomio as pol\n",
    "listaPol=[]\n",
    "p1=pol.criarPolinomio()\n",
    "pol.inserirTermo(p1,pol.criarTermo(2,1))\n",
    "pol.inserirTermo(p1,pol.criarTermo(-5,0))\n",
    "p2=pol.criarPolinomio()\n",
    "pol.inserirTermo(p2,pol.criarTermo(1,2))\n",
    "pol.inserirTermo(p2,pol.criarTermo(-7,0))\n",
    "p3=pol.criarPolinomio()\n",
    "pol.inserirTermo(p3,pol.criarTermo(1,3))\n",
    "pol.inserirTermo(p3,pol.criarTermo(-2,2))\n",
    "pol.inserirTermo(p3,pol.criarTermo(1,0))\n",
    "listaPol.append(p1)\n",
    "listaPol.append(p2)\n",
    "listaPol.append(p3)"
   ]
  },
  {
   "cell_type": "code",
   "execution_count": 66,
   "id": "a505af26",
   "metadata": {},
   "outputs": [
    {
     "data": {
      "image/png": "[encoded data removed]",
      "text/plain": [
       "<Figure size 432x288 with 1 Axes>"
      ]
     },
     "metadata": {
      "needs_background": "light"
     },
     "output_type": "display_data"
    }
   ],
   "source": [
    "import matplotlib.pyplot as plt\n",
    "x=[x for x in range (-100,101)]\n",
    "y1=[]\n",
    "y2=[]\n",
    "y3=[]\n",
    "for i in x:\n",
    "    y1.append(pol.calcPolinomio(p1,i))\n",
    "    y2.append(pol.calcPolinomio(p2,i))\n",
    "    y3.append(pol.calcPolinomio(p3,i))\n",
    "plt.ylim(-100,100)\n",
    "plt.xlim(-30,30)\n",
    "plt.plot(x,y1)\n",
    "plt.plot(x,y2)\n",
    "plt.plot(x,y3)\n",
    "plt.show()\n",
    "\n",
    "    \n",
    "    "
   ]
  },
  {
   "cell_type": "markdown",
   "id": "8036e6c9",
   "metadata": {},
   "source": [
    "### Exercício 4: estatísticas de alunos\n",
    "\n",
    "__A fazer:__ Depois de analisares os exemplos seguintes, constrói um programa que desenha um gráfico de barras com os alunos de cada curso."
   ]
  },
  {
   "cell_type": "code",
   "execution_count": 72,
   "id": "cf036d9f",
   "metadata": {},
   "outputs": [
    {
     "name": "stdout",
     "output_type": "stream",
     "text": [
      "   id_aluno                       nome    curso  tpc1  tpc2  tpc3  tpc4\n",
      "0        a1     Aysha Melanie Gilberto      LEI    12     8    19     8\n",
      "1        a2      Igor André Cantanhede   ENGFIS    12    16    18    20\n",
      "2        a3           Laurénio Narciso   ENGFIS     8    14    15    14\n",
      "3        a4            Jasnoor Casegas      LCC    14    20    17    11\n",
      "4        a5           Tawseef Rebouças  ENGBIOM    13    14    13    17\n",
      "..      ...                        ...      ...   ...   ...   ...   ...\n",
      "95      a96              Anaïs Sintra      LCC    19    19    12     9\n",
      "96      a97            Salvador Banaca      LCC    12     9    20    12\n",
      "97      a98  Guilherme Matias Almeirão   ENGFIS    14     9    12    11\n",
      "98      a99          Xavier Luís Bulha   ENGFIS    17    13     8    10\n",
      "99     a100                Tude Searas      LEI    20    17     8    14\n",
      "\n",
      "[100 rows x 7 columns]\n"
     ]
    }
   ],
   "source": [
    "import pandas as pd\n",
    "alunos=pd.read_csv('C:/Users/rafay/AGTP/alunos.csv')\n"
   ]
  },
  {
   "cell_type": "code",
   "execution_count": 77,
   "id": "7cbe0682",
   "metadata": {},
   "outputs": [
    {
     "data": {
      "text/plain": [
       "14.44"
      ]
     },
     "execution_count": 77,
     "metadata": {},
     "output_type": "execute_result"
    }
   ],
   "source": [
    "alunos[\"tpc1\"].mean()"
   ]
  },
  {
   "cell_type": "code",
   "execution_count": 78,
   "id": "853a3886",
   "metadata": {},
   "outputs": [
    {
     "data": {
      "text/plain": [
       "tpc1    14.44\n",
       "tpc2    14.16\n",
       "tpc3    13.75\n",
       "tpc4    13.87\n",
       "dtype: float64"
      ]
     },
     "execution_count": 78,
     "metadata": {},
     "output_type": "execute_result"
    }
   ],
   "source": [
    "alunos[[\"tpc1\", \"tpc2\", \"tpc3\",\"tpc4\"]].mean()"
   ]
  },
  {
   "cell_type": "code",
   "execution_count": 79,
   "id": "324ae13c",
   "metadata": {},
   "outputs": [
    {
     "data": {
      "text/html": [
       "<div>\n",
       "<style scoped>\n",
       "    .dataframe tbody tr th:only-of-type {\n",
       "        vertical-align: middle;\n",
       "    }\n",
       "\n",
       "    .dataframe tbody tr th {\n",
       "        vertical-align: top;\n",
       "    }\n",
       "\n",
       "    .dataframe thead th {\n",
       "        text-align: right;\n",
       "    }\n",
       "</style>\n",
       "<table border=\"1\" class=\"dataframe\">\n",
       "  <thead>\n",
       "    <tr style=\"text-align: right;\">\n",
       "      <th></th>\n",
       "      <th>tpc1</th>\n",
       "      <th>tpc2</th>\n",
       "      <th>tpc3</th>\n",
       "      <th>tpc4</th>\n",
       "    </tr>\n",
       "  </thead>\n",
       "  <tbody>\n",
       "    <tr>\n",
       "      <th>count</th>\n",
       "      <td>100.000000</td>\n",
       "      <td>100.000000</td>\n",
       "      <td>100.000000</td>\n",
       "      <td>100.000000</td>\n",
       "    </tr>\n",
       "    <tr>\n",
       "      <th>mean</th>\n",
       "      <td>14.440000</td>\n",
       "      <td>14.160000</td>\n",
       "      <td>13.750000</td>\n",
       "      <td>13.870000</td>\n",
       "    </tr>\n",
       "    <tr>\n",
       "      <th>std</th>\n",
       "      <td>3.798777</td>\n",
       "      <td>3.711081</td>\n",
       "      <td>4.058599</td>\n",
       "      <td>3.577864</td>\n",
       "    </tr>\n",
       "    <tr>\n",
       "      <th>min</th>\n",
       "      <td>8.000000</td>\n",
       "      <td>8.000000</td>\n",
       "      <td>8.000000</td>\n",
       "      <td>8.000000</td>\n",
       "    </tr>\n",
       "    <tr>\n",
       "      <th>25%</th>\n",
       "      <td>11.000000</td>\n",
       "      <td>11.000000</td>\n",
       "      <td>10.000000</td>\n",
       "      <td>11.000000</td>\n",
       "    </tr>\n",
       "    <tr>\n",
       "      <th>50%</th>\n",
       "      <td>15.000000</td>\n",
       "      <td>14.000000</td>\n",
       "      <td>14.000000</td>\n",
       "      <td>14.000000</td>\n",
       "    </tr>\n",
       "    <tr>\n",
       "      <th>75%</th>\n",
       "      <td>17.250000</td>\n",
       "      <td>18.000000</td>\n",
       "      <td>17.000000</td>\n",
       "      <td>17.000000</td>\n",
       "    </tr>\n",
       "    <tr>\n",
       "      <th>max</th>\n",
       "      <td>20.000000</td>\n",
       "      <td>20.000000</td>\n",
       "      <td>20.000000</td>\n",
       "      <td>20.000000</td>\n",
       "    </tr>\n",
       "  </tbody>\n",
       "</table>\n",
       "</div>"
      ],
      "text/plain": [
       "             tpc1        tpc2        tpc3        tpc4\n",
       "count  100.000000  100.000000  100.000000  100.000000\n",
       "mean    14.440000   14.160000   13.750000   13.870000\n",
       "std      3.798777    3.711081    4.058599    3.577864\n",
       "min      8.000000    8.000000    8.000000    8.000000\n",
       "25%     11.000000   11.000000   10.000000   11.000000\n",
       "50%     15.000000   14.000000   14.000000   14.000000\n",
       "75%     17.250000   18.000000   17.000000   17.000000\n",
       "max     20.000000   20.000000   20.000000   20.000000"
      ]
     },
     "execution_count": 79,
     "metadata": {},
     "output_type": "execute_result"
    }
   ],
   "source": [
    "alunos[[\"tpc1\", \"tpc2\", \"tpc3\",\"tpc4\"]].describe()"
   ]
  },
  {
   "cell_type": "code",
   "execution_count": 80,
   "id": "ea664a8f",
   "metadata": {},
   "outputs": [
    {
     "data": {
      "text/html": [
       "<div>\n",
       "<style scoped>\n",
       "    .dataframe tbody tr th:only-of-type {\n",
       "        vertical-align: middle;\n",
       "    }\n",
       "\n",
       "    .dataframe tbody tr th {\n",
       "        vertical-align: top;\n",
       "    }\n",
       "\n",
       "    .dataframe thead th {\n",
       "        text-align: right;\n",
       "    }\n",
       "</style>\n",
       "<table border=\"1\" class=\"dataframe\">\n",
       "  <thead>\n",
       "    <tr style=\"text-align: right;\">\n",
       "      <th></th>\n",
       "      <th>tpc1</th>\n",
       "    </tr>\n",
       "    <tr>\n",
       "      <th>curso</th>\n",
       "      <th></th>\n",
       "    </tr>\n",
       "  </thead>\n",
       "  <tbody>\n",
       "    <tr>\n",
       "      <th>ENGBIOM</th>\n",
       "      <td>14.760000</td>\n",
       "    </tr>\n",
       "    <tr>\n",
       "      <th>ENGFIS</th>\n",
       "      <td>13.750000</td>\n",
       "    </tr>\n",
       "    <tr>\n",
       "      <th>LCC</th>\n",
       "      <td>15.100000</td>\n",
       "    </tr>\n",
       "    <tr>\n",
       "      <th>LEI</th>\n",
       "      <td>14.478261</td>\n",
       "    </tr>\n",
       "  </tbody>\n",
       "</table>\n",
       "</div>"
      ],
      "text/plain": [
       "              tpc1\n",
       "curso             \n",
       "ENGBIOM  14.760000\n",
       "ENGFIS   13.750000\n",
       "LCC      15.100000\n",
       "LEI      14.478261"
      ]
     },
     "execution_count": 80,
     "metadata": {},
     "output_type": "execute_result"
    }
   ],
   "source": [
    "alunos[[\"curso\", \"tpc1\"]].groupby(\"curso\").mean()"
   ]
  },
  {
   "cell_type": "code",
   "execution_count": 81,
   "id": "b3766881",
   "metadata": {},
   "outputs": [
    {
     "name": "stdout",
     "output_type": "stream",
     "text": [
      "32\n"
     ]
    }
   ],
   "source": [
    "cont = alunos[\"curso\"].value_counts()\n",
    "print(cont.get('ENGFIS'))"
   ]
  },
  {
   "cell_type": "code",
   "execution_count": 82,
   "id": "c2c49d65",
   "metadata": {},
   "outputs": [
    {
     "name": "stdout",
     "output_type": "stream",
     "text": [
      "['LEI' 'ENGFIS' 'LCC' 'ENGBIOM']\n"
     ]
    }
   ],
   "source": [
    "cursos = alunos[\"curso\"].unique()\n",
    "print(cursos)"
   ]
  },
  {
   "cell_type": "code",
   "execution_count": 83,
   "id": "2ac46f17",
   "metadata": {},
   "outputs": [
    {
     "data": {
      "image/png": "[encoded data removed]",
      "text/plain": [
       "<Figure size 432x288 with 1 Axes>"
      ]
     },
     "metadata": {
      "needs_background": "light"
     },
     "output_type": "display_data"
    }
   ],
   "source": [
    "cont = alunos[\"curso\"].value_counts().plot(kind='bar')"
   ]
  },
  {
   "cell_type": "code",
   "execution_count": null,
   "id": "3d1059d8",
   "metadata": {},
   "outputs": [],
   "source": []
  }
 ],
 "metadata": {
  "kernelspec": {
   "display_name": "Python 3",
   "language": "python",
   "name": "python3"
  },
  "language_info": {
   "codemirror_mode": {
    "name": "ipython",
    "version": 3
   },
   "file_extension": ".py",
   "mimetype": "text/x-python",
   "name": "python",
   "nbconvert_exporter": "python",
   "pygments_lexer": "ipython3",
   "version": "3.8.8"
  }
 },
 "nbformat": 4,
 "nbformat_minor": 5
}
