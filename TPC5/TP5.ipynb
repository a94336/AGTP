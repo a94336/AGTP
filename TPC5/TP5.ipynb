{
 "cells": [
  {
   "cell_type": "markdown",
   "id": "71e21868",
   "metadata": {},
   "source": [
    "# Aula TP5 + TP6"
   ]
  },
  {
   "cell_type": "markdown",
   "id": "119c298c",
   "metadata": {},
   "source": [
    "* Identificador: TPC5 + TPC6\n",
    "* Título: Polinómios\n",
    "* Data inicío: 2021-11-14\n",
    "* Data fim: 2021-11-19\n",
    "* Supervisor: José Carlos Leite Ramalho, https://www4.di.uminho.pt/~jcr/\n",
    "* Autor: Bernardo Moraes, A94336"
   ]
  },
  {
   "cell_type": "markdown",
   "id": "5f2edde7",
   "metadata": {},
   "source": [
    "### Resumo\n",
    "\n",
    "Durante a quinta aula teórico-prática, foi proposta aos alunos, a criação de uma aplicação que permita ao utilizador iterar polinómios. Foi determinado que a aplicação deveria ser composta por um menu que direcione o utilizador para as seis funcionalidades.\n",
    "\n",
    "Na aula, junto com o supervisor, foram elaboradas a funções **criarPolinomio** (cria uma lista que representará o polinómio), **criarTermo** (cria um tuplo que corresponde a cada termo do polinómio), **inserirTermo** (insere o termo na lista criada) e **verTermo** (imprime o termo de maneira mais visual), **verPolinomio** (imprime o polinómio completo de maneira mais visual), **calcPol**(calcula para um determinado x o valor do polinómio) , **tabela** (gera uma tabela com os valores do polinómio até um número determinado pelo utilizador), **chaveOrd** (auxilia a função ordenarPol), **ordenarPol** (ordena os polinómios de acordo com os expoentes) e **derivarPol** (deriva o polinómio por completo). Como tarefa para casa, foi ordenada a criação da função **simplificarPol**, que permite simplificar o polinómio através da soma dos termos com os mesmos expoentes. Essa função, na sexta aula teórica, foi aperfeiçoada junto com o supervisor e os colegas de turma.\n",
    "\n",
    "Na sexta aula teórica, após a explicação de como pode ser gerado um gráfico, foi determinado que acrescentasse ao menu uma função que permita produzir um gráfico com os valores do polinómio. Portanto, foi criada a função **grafico** que segue os passos demonstrados pelo supervisor em sala de aula."
   ]
  },
  {
   "cell_type": "code",
   "execution_count": 1,
   "id": "fb766980",
   "metadata": {},
   "outputs": [],
   "source": [
    "def menu():\n",
    "    print(\"\"\"Aplicação para trabalhar com polinómios:\n",
    "(1) Criar polinómio;\n",
    "(2) Calcular polinómio;\n",
    "(3) Calcular polinómio até n;\n",
    "(4) Simplificar o polinómio;\n",
    "(5) Derivar o polinómio;\n",
    "(6) Gerar gráfico;\n",
    "(0) Sair\"\"\")"
   ]
  },
  {
   "cell_type": "code",
   "execution_count": 2,
   "id": "30eadca9",
   "metadata": {},
   "outputs": [],
   "source": [
    "def criarPolinomio():\n",
    "    return []\n",
    "def criarTermo(coef,exp):\n",
    "    return (coef,exp)\n",
    "def inserirTermo (p,t):\n",
    "    return p.append(t)"
   ]
  },
  {
   "cell_type": "code",
   "execution_count": 3,
   "id": "1856722d",
   "metadata": {},
   "outputs": [],
   "source": [
    "def verTermo(t):\n",
    "    c,e=t\n",
    "    if e==0:\n",
    "        return str(c)\n",
    "    elif e==1:\n",
    "        return str(c)+'x'\n",
    "    else:\n",
    "        return str(c)+'x^'+str(e)\n",
    "def verPolinomio(p):\n",
    "    res=\"\"\n",
    "    for t in p:\n",
    "        if res=='':\n",
    "            res=verTermo(t)\n",
    "        else:\n",
    "            res=res+' + '+verTermo(t)\n",
    "    print(res)"
   ]
  },
  {
   "cell_type": "code",
   "execution_count": 4,
   "id": "c55cd3c7",
   "metadata": {},
   "outputs": [],
   "source": [
    "def calcPol(p,x):\n",
    "    res=0\n",
    "    for t in p:\n",
    "        c,e=t\n",
    "        res=res+(c*(x**e))\n",
    "    return res"
   ]
  },
  {
   "cell_type": "code",
   "execution_count": 5,
   "id": "30751881",
   "metadata": {},
   "outputs": [],
   "source": [
    "def tabela(p,n):\n",
    "    print('X: ','Y:')\n",
    "    for x in range(n+1):\n",
    "        print(str(x),' ',str(calcPol(p,x)))"
   ]
  },
  {
   "cell_type": "code",
   "execution_count": 6,
   "id": "fb19bab3",
   "metadata": {},
   "outputs": [],
   "source": [
    "def chaveOrd(t):\n",
    "    _,e=t\n",
    "    return e\n",
    "\n",
    "def ordenarPol(p):\n",
    "    p.sort(reverse=True, key=chaveOrd)"
   ]
  },
  {
   "cell_type": "code",
   "execution_count": 7,
   "id": "591b892a",
   "metadata": {},
   "outputs": [],
   "source": [
    "def simplificarPol(p):\n",
    "    ordenarPol(p)\n",
    "    resLista=[]\n",
    "    for i in range (1,len(p)):\n",
    "        c,e=p[i]\n",
    "        c0,e0=p[i-1]\n",
    "        if e0==e:\n",
    "            inserirTermo(resLista,(c+c0,e))\n",
    "        else:\n",
    "            if e0>e:\n",
    "                if i==1:\n",
    "                    inserirTermo(resLista,(c0,e0))\n",
    "            else:\n",
    "                inserirTermo(reslista,(c,e))\n",
    "    return resLista"
   ]
  },
  {
   "cell_type": "code",
   "execution_count": 8,
   "id": "fcd7db1a",
   "metadata": {},
   "outputs": [],
   "source": [
    "import matplotlib.pyplot as plt\n",
    "def grafico(n):\n",
    "    x=[x for x in range(n+1)]\n",
    "    y=[]\n",
    "    for n in x:\n",
    "        y.append(calcPol(p,n))\n",
    "    plt.plot(x,y)\n",
    "    plt.xlabel('x')\n",
    "    plt.ylabel('y')\n",
    "    plt.title('Polinómios')\n",
    "    plt.show()"
   ]
  },
  {
   "cell_type": "code",
   "execution_count": 9,
   "id": "748030fb",
   "metadata": {},
   "outputs": [],
   "source": [
    "def derivarPol(p):\n",
    "    ordenarPol(p)\n",
    "    simplificarPol(p)\n",
    "    res=[]\n",
    "    for t in p:\n",
    "        c,e=t\n",
    "        if e>=1:\n",
    "            res.append((c*e, e-1))\n",
    "    return res"
   ]
  },
  {
   "cell_type": "code",
   "execution_count": null,
   "id": "1db59cdb",
   "metadata": {},
   "outputs": [
    {
     "name": "stdout",
     "output_type": "stream",
     "text": [
      "Aplicação para trabalhar com polinómios:\n",
      "(1) Criar polinómio;\n",
      "(2) Calcular polinómio;\n",
      "(3) Calcular polinómio até n;\n",
      "(4) Simplificar o polinómio;\n",
      "(5) Derivar o polinómio;\n",
      "(6) Gerar gráfico;\n",
      "(0) Sair\n"
     ]
    }
   ],
   "source": [
    "op=\"1\"\n",
    "menu()\n",
    "while op != '0':\n",
    "    op=input('Qual é a sua opção? ')\n",
    "    if op==\"1\":\n",
    "        p=criarPolinomio()\n",
    "        coef=int(input('Coeficiente do termo: '))\n",
    "        exp=int(input('Expoente do termo: '))\n",
    "        inserirTermo(p,criarTermo(coef,exp))\n",
    "        more=input('Desejas criar mais um termo? Responda S para sim ou N para não: ')\n",
    "        while more=='S':\n",
    "            coef=int(input('Coeficiente do termo: '))\n",
    "            exp=int(input('Expoente do termo: '))\n",
    "            inserirTermo(p,criarTermo(coef,exp))\n",
    "            more=input('Desejas criar mais um termo? Responda S para sim ou N para não: ')\n",
    "        verPolinomio(p)\n",
    "    elif op==\"2\":\n",
    "        x=int(input('Para qual valor de x desejas calcular o polinómio? '))\n",
    "        print('O resultado é',calcPol(p,x))\n",
    "    elif op==\"3\":\n",
    "        n=int(input('Até qual valor de x desejas calcular o polinómio? '))\n",
    "        tabela(p,n)\n",
    "    elif op==\"4\":\n",
    "        print('O polinómio simplificado é: ')\n",
    "        verPolinomio(simplificarPol(p))\n",
    "    elif op==\"5\": \n",
    "        print('O polinómio derivado é: ')\n",
    "        verPolinomio(derivarPol(p))\n",
    "    elif op==\"6\":\n",
    "        n=int(input('Até qual valor de x desejas calcular o polinómio? '))\n",
    "        grafico(n)\n",
    "    elif op==\"0\":\n",
    "        print('Até a próxima!')\n",
    "    else:\n",
    "        print('Opção inválida')"
   ]
  },
  {
   "cell_type": "code",
   "execution_count": null,
   "id": "3715c655",
   "metadata": {},
   "outputs": [],
   "source": []
  }
 ],
 "metadata": {
  "kernelspec": {
   "display_name": "Python 3",
   "language": "python",
   "name": "python3"
  },
  "language_info": {
   "codemirror_mode": {
    "name": "ipython",
    "version": 3
   },
   "file_extension": ".py",
   "mimetype": "text/x-python",
   "name": "python",
   "nbconvert_exporter": "python",
   "pygments_lexer": "ipython3",
   "version": "3.8.8"
  }
 },
 "nbformat": 4,
 "nbformat_minor": 5
}
